{
 "cells": [
  {
   "cell_type": "markdown",
   "metadata": {},
   "source": [
    "# Assignment 5\n",
    "\n",
    "Author: [Mukai (Tom Notch) Yu](https://tomnotch.com)\n",
    "\n",
    "Email: <mukaiy@andrew.cmu.edu>"
   ]
  },
  {
   "cell_type": "markdown",
   "metadata": {},
   "source": [
    "## Q1. Classification Model (40 points)"
   ]
  },
  {
   "cell_type": "markdown",
   "metadata": {},
   "source": [
    "Accuracy: 0.9790136411332634"
   ]
  },
  {
   "cell_type": "markdown",
   "metadata": {},
   "source": [
    "![success_chair](output/q1_cls_visualizations/success_Chair.gif)\n",
    "![success_lamp](output/q1_cls_visualizations/success_Lamp.gif)\n",
    "![success_vase](output/q1_cls_visualizations/success_Vase.gif)"
   ]
  },
  {
   "cell_type": "markdown",
   "metadata": {},
   "source": [
    "![fail chair](output/q1_cls_visualizations/failure_Chair.gif)\n",
    "![fail lamp](output/q1_cls_visualizations/failure_Lamp.gif)\n",
    "![fail vase](output/q1_cls_visualizations/failure_Vase.gif)"
   ]
  },
  {
   "cell_type": "markdown",
   "metadata": {},
   "source": [
    "The above failure could be due to missing/mistaken stereotypical **global** features, e.g. chair should have horizontal board"
   ]
  },
  {
   "cell_type": "markdown",
   "metadata": {},
   "source": [
    "## Q2. Segmentation Model (40 points)"
   ]
  },
  {
   "cell_type": "markdown",
   "metadata": {},
   "source": [
    "Accuracy: 0.9031894651539708"
   ]
  },
  {
   "cell_type": "markdown",
   "metadata": {},
   "source": [
    "Best Segmentation Ground Truth (left) vs Prediction (right):\n",
    "\n",
    "![gt](output/q2_seg_visualizations/gt_best_0.gif)\n",
    "![pred](output/q2_seg_visualizations/prediction_best_0.gif)\n",
    "\n",
    "Sample Accuracy: 0.9967\n",
    "\n",
    "![gt](output/q2_seg_visualizations/gt_best_1.gif)\n",
    "![pred](output/q2_seg_visualizations/prediction_best_1.gif)\n",
    "\n",
    "Sample Accuracy: 0.9961\n",
    "\n",
    "![gt](output/q2_seg_visualizations/gt_best_2.gif)\n",
    "![pred](output/q2_seg_visualizations/prediction_best_2.gif)\n",
    "\n",
    "Sample Accuracy: 0.9939"
   ]
  },
  {
   "cell_type": "markdown",
   "metadata": {},
   "source": [
    "Worst Segmentation Ground Truth (left) vs Prediction (right):\n",
    "\n",
    "![gt](output/q2_seg_visualizations/gt_worst_0.gif)\n",
    "![pred](output/q2_seg_visualizations/prediction_worst_0.gif)\n",
    "\n",
    "Sample Accuracy: 0.4625\n",
    "\n",
    "![gt](output/q2_seg_visualizations/gt_worst_1.gif)\n",
    "![pred](output/q2_seg_visualizations/prediction_worst_1.gif)\n",
    "\n",
    "Sample Accuracy: 0.4703"
   ]
  },
  {
   "cell_type": "markdown",
   "metadata": {},
   "source": [
    "The first failure case might be due to our current network's receptive field of either single or all points, and the second must be due to geometrically mixed labels"
   ]
  },
  {
   "cell_type": "markdown",
   "metadata": {},
   "source": [
    "## Q3. Robustness Analysis (20 points)"
   ]
  },
  {
   "cell_type": "markdown",
   "metadata": {},
   "source": [
    "### Random Rotation"
   ]
  },
  {
   "cell_type": "markdown",
   "metadata": {},
   "source": [
    "Apply different random rotation for each test sample"
   ]
  },
  {
   "cell_type": "markdown",
   "metadata": {},
   "source": [
    "#### Classification"
   ]
  },
  {
   "cell_type": "markdown",
   "metadata": {},
   "source": [
    "Accuracy:  0.3179433368310598"
   ]
  },
  {
   "cell_type": "markdown",
   "metadata": {},
   "source": [
    "![success_chair](output/q3_rr_cls_visualizations/success_Chair.gif)\n",
    "![success_lamp](output/q3_rr_cls_visualizations/success_Lamp.gif)\n",
    "![success_vase](output/q3_rr_cls_visualizations/success_Vase.gif)"
   ]
  },
  {
   "cell_type": "markdown",
   "metadata": {},
   "source": [
    "![fail chair](output/q3_rr_cls_visualizations/failure_Chair.gif)\n",
    "![fail lamp](output/q3_rr_cls_visualizations/failure_Lamp.gif)\n",
    "![fail vase](output/q3_rr_cls_visualizations/failure_Vase.gif)"
   ]
  },
  {
   "cell_type": "markdown",
   "metadata": {},
   "source": [
    "Pretty bad result. When not trained with random rotation, gravity becomes a negative cue for the task"
   ]
  },
  {
   "cell_type": "markdown",
   "metadata": {},
   "source": [
    "#### Segmentation"
   ]
  },
  {
   "cell_type": "markdown",
   "metadata": {},
   "source": [
    "Accuracy: 0.3485492706645057"
   ]
  },
  {
   "cell_type": "markdown",
   "metadata": {},
   "source": [
    "Best Segmentation Ground Truth (left) vs Prediction (right):\n",
    "\n",
    "![gt](output/q3_rr_seg_visualizations/gt_best_0.gif)\n",
    "![pred](output/q3_rr_seg_visualizations/prediction_best_0.gif)\n",
    "\n",
    "Sample Accuracy: 0.9328\n",
    "\n",
    "![gt](output/q3_rr_seg_visualizations/gt_best_1.gif)\n",
    "![pred](output/q3_rr_seg_visualizations/prediction_best_1.gif)\n",
    "\n",
    "Sample Accuracy: 0.9076\n",
    "\n",
    "![gt](output/q3_rr_seg_visualizations/gt_best_2.gif)\n",
    "![pred](output/q3_rr_seg_visualizations/prediction_best_2.gif)\n",
    "\n",
    "Sample Accuracy: 0.8885"
   ]
  },
  {
   "cell_type": "markdown",
   "metadata": {},
   "source": [
    "Worst Segmentation Ground Truth (left) vs Prediction (right):\n",
    "\n",
    "![gt](output/q3_rr_seg_visualizations/gt_worst_0.gif)\n",
    "![pred](output/q3_rr_seg_visualizations/prediction_worst_0.gif)\n",
    "\n",
    "Sample Accuracy: 0.0128\n",
    "\n",
    "![gt](output/q3_rr_seg_visualizations/gt_worst_1.gif)\n",
    "![pred](output/q3_rr_seg_visualizations/prediction_worst_1.gif)\n",
    "\n",
    "Sample Accuracy: 0.0514"
   ]
  },
  {
   "cell_type": "markdown",
   "metadata": {},
   "source": [
    "Pretty bad result. Again, not trained with random rotation, then gravity becomes negative cue"
   ]
  },
  {
   "cell_type": "markdown",
   "metadata": {},
   "source": [
    "### Less number of points"
   ]
  },
  {
   "cell_type": "markdown",
   "metadata": {},
   "source": [
    "Reduce to 100 per sample"
   ]
  },
  {
   "cell_type": "markdown",
   "metadata": {},
   "source": [
    "#### Classification"
   ]
  },
  {
   "cell_type": "markdown",
   "metadata": {},
   "source": [
    "Accuracy:  0.9307450157397692"
   ]
  },
  {
   "cell_type": "markdown",
   "metadata": {},
   "source": [
    "![success_chair](output/q3_np_cls_visualizations/success_Chair.gif)\n",
    "![success_lamp](output/q3_np_cls_visualizations/success_Lamp.gif)\n",
    "![success_vase](output/q3_np_cls_visualizations/success_Vase.gif)"
   ]
  },
  {
   "cell_type": "markdown",
   "metadata": {},
   "source": [
    "![fail chair](output/q3_np_cls_visualizations/failure_Chair.gif)\n",
    "![fail lamp](output/q3_np_cls_visualizations/failure_Lamp.gif)\n",
    "![fail vase](output/q3_np_cls_visualizations/failure_Vase.gif)"
   ]
  },
  {
   "cell_type": "markdown",
   "metadata": {},
   "source": [
    "Result is pretty good, because we have global max, as long as 1 point's deciding feature channel stands out, the class can be determined"
   ]
  },
  {
   "cell_type": "markdown",
   "metadata": {},
   "source": [
    "#### Segmentation"
   ]
  },
  {
   "cell_type": "markdown",
   "metadata": {},
   "source": [
    "Accuracy: 0.8055591572123176"
   ]
  },
  {
   "cell_type": "markdown",
   "metadata": {},
   "source": [
    "Best Segmentation Ground Truth (left) vs Prediction (right):\n",
    "\n",
    "![gt](output/q3_np_seg_visualizations/gt_best_0.gif)\n",
    "![pred](output/q3_np_seg_visualizations/prediction_best_0.gif)\n",
    "\n",
    "Sample Accuracy: 1.0000\n",
    "\n",
    "![gt](output/q3_np_seg_visualizations/gt_best_1.gif)\n",
    "![pred](output/q3_np_seg_visualizations/prediction_best_1.gif)\n",
    "\n",
    "Sample Accuracy: 1.0000\n",
    "\n",
    "![gt](output/q3_np_seg_visualizations/gt_best_2.gif)\n",
    "![pred](output/q3_np_seg_visualizations/prediction_best_2.gif)\n",
    "\n",
    "Sample Accuracy: 1.0000"
   ]
  },
  {
   "cell_type": "markdown",
   "metadata": {},
   "source": [
    "Worst Segmentation Ground Truth (left) vs Prediction (right):\n",
    "\n",
    "![gt](output/q3_np_seg_visualizations/gt_worst_0.gif)\n",
    "![pred](output/q3_np_seg_visualizations/prediction_worst_0.gif)\n",
    "\n",
    "Sample Accuracy: 0.2800\n",
    "\n",
    "![gt](output/q3_np_seg_visualizations/gt_worst_1.gif)\n",
    "![pred](output/q3_np_seg_visualizations/prediction_worst_1.gif)\n",
    "\n",
    "Sample Accuracy: 0.3200"
   ]
  },
  {
   "cell_type": "markdown",
   "metadata": {},
   "source": [
    "Also not dropping too much, because the receptive field is either 1 single point or all the points"
   ]
  },
  {
   "cell_type": "markdown",
   "metadata": {},
   "source": [
    "## Q4. Bonus Question - Locality (20 points)"
   ]
  }
 ],
 "metadata": {
  "language_info": {
   "name": "python"
  }
 },
 "nbformat": 4,
 "nbformat_minor": 2
}
